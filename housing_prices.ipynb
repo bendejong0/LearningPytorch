{
 "cells": [
  {
   "cell_type": "code",
   "execution_count": 9,
   "metadata": {},
   "outputs": [],
   "source": [
    "import torch\n",
    "import torch.nn as nn\n",
    "import torch.optim as optim\n",
    "import matplotlib.pyplot as plt\n",
    "import numpy as np\n",
    "import pandas as pd"
   ]
  },
  {
   "cell_type": "markdown",
   "metadata": {},
   "source": [
    "Below is some data I collected from houses in Elmhurst, Illinois."
   ]
  },
  {
   "cell_type": "code",
   "execution_count": 10,
   "metadata": {},
   "outputs": [
    {
     "name": "stdout",
     "output_type": "stream",
     "text": [
      "X: tensor([[1.1250e+03, 3.0000e+00, 1.9540e+03],\n",
      "        [8.0200e+02, 1.6000e+00, 1.9250e+03],\n",
      "        [3.7340e+03, 2.2000e+00, 2.0060e+03],\n",
      "        [1.3000e+03, 2.6000e+00, 1.9500e+03],\n",
      "        [4.2000e+03, 6.0000e-01, 1.9300e+03],\n",
      "        [1.1000e+03, 5.0000e+00, 1.9600e+03]])\n",
      "\n",
      "Y: tensor([[ 330000.],\n",
      "        [ 347000.],\n",
      "        [1249900.],\n",
      "        [ 339900.],\n",
      "        [ 750000.],\n",
      "        [ 379000.]])\n"
     ]
    }
   ],
   "source": [
    "training_data_raw = {\n",
    "    'price': [330000.0, 347000.0, 1249900.0, 339900.0, 750000.0, 379000.0],\n",
    "    'sqrfoot': [1125.0, 802.0, 3734.0, 1300.0, 4200.0, 1100.0],\n",
    "    'miles_to_school': [3.0, 1.6, 2.2, 2.6, 0.6, 5.0],\n",
    "    'yearbuilt': [1954.0, 1925.0, 2006.0, 1950.0, 1930.0, 1960.0]\n",
    "}\n",
    "\n",
    "training_df = pd.DataFrame(data=training_data_raw)\n",
    "X = torch.tensor(training_df[['sqrfoot', 'miles_to_school', 'yearbuilt']].values, dtype=torch.float32)\n",
    "Y = torch.tensor(training_df[['price']].values, dtype=torch.float32)\n",
    "\n",
    "print(f\"X: {X}\")\n",
    "print(f\"\\nY: {Y}\")"
   ]
  },
  {
   "cell_type": "markdown",
   "metadata": {},
   "source": [
    "Creating the model."
   ]
  },
  {
   "cell_type": "code",
   "execution_count": 15,
   "metadata": {},
   "outputs": [],
   "source": [
    "class LinearModel(nn.Module):\n",
    "    def __init__(self):\n",
    "        super(LinearModel, self).__init__()\n",
    "        self.linear = nn.Linear(3, 1)\n",
    "\n",
    "    def forward(self, x):\n",
    "        return self.linear(x)\n",
    "    \n",
    "model = LinearModel()\n",
    "loss_function = nn.MSELoss()"
   ]
  },
  {
   "cell_type": "code",
   "execution_count": 16,
   "metadata": {},
   "outputs": [],
   "source": [
    "learning_rate = 0.001\n",
    "momentum = 0.9"
   ]
  },
  {
   "cell_type": "markdown",
   "metadata": {},
   "source": [
    "Below is the training loop:"
   ]
  },
  {
   "cell_type": "code",
   "execution_count": 18,
   "metadata": {},
   "outputs": [
    {
     "name": "stdout",
     "output_type": "stream",
     "text": [
      "Epoch: 49, Loss: nan\n",
      "Epoch: 99, Loss: nan\n",
      "Epoch: 149, Loss: nan\n",
      "Epoch: 199, Loss: nan\n",
      "Epoch: 249, Loss: nan\n",
      "Epoch: 299, Loss: nan\n",
      "Epoch: 349, Loss: nan\n",
      "Epoch: 399, Loss: nan\n",
      "Epoch: 449, Loss: nan\n",
      "Epoch: 499, Loss: nan\n",
      "Epoch: 549, Loss: nan\n",
      "Epoch: 599, Loss: nan\n",
      "Epoch: 649, Loss: nan\n",
      "Epoch: 699, Loss: nan\n",
      "Epoch: 749, Loss: nan\n",
      "Epoch: 799, Loss: nan\n",
      "Epoch: 849, Loss: nan\n",
      "Epoch: 899, Loss: nan\n",
      "Epoch: 949, Loss: nan\n",
      "Epoch: 999, Loss: nan\n"
     ]
    }
   ],
   "source": [
    "num_epochs = 1000\n",
    "for epoch in range(num_epochs):\n",
    "    optimizer = optim.SGD(model.parameters(), lr=0.001)\n",
    "    optimizer.zero_grad()\n",
    "\n",
    "    predictions = model(X)\n",
    "    \n",
    "    if predictions.shape[-1] != Y.shape[-1]:\n",
    "        raise ValueError(\"Shapes of predictions X and Y do not match\")\n",
    "\n",
    "    loss = loss_function(predictions, Y)\n",
    "\n",
    "    loss.backward()\n",
    "    optimizer.step()\n",
    "\n",
    "    if (epoch + 1) % 50 == 0:\n",
    "        print(f\"Epoch: {epoch}, Loss: {loss.item():.4f}\")"
   ]
  },
  {
   "cell_type": "code",
   "execution_count": null,
   "metadata": {},
   "outputs": [],
   "source": []
  },
  {
   "cell_type": "code",
   "execution_count": null,
   "metadata": {},
   "outputs": [],
   "source": []
  }
 ],
 "metadata": {
  "kernelspec": {
   "display_name": "Python 3",
   "language": "python",
   "name": "python3"
  },
  "language_info": {
   "codemirror_mode": {
    "name": "ipython",
    "version": 3
   },
   "file_extension": ".py",
   "mimetype": "text/x-python",
   "name": "python",
   "nbconvert_exporter": "python",
   "pygments_lexer": "ipython3",
   "version": "3.11.0"
  },
  "orig_nbformat": 4
 },
 "nbformat": 4,
 "nbformat_minor": 2
}
