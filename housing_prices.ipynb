{
 "cells": [
  {
   "cell_type": "code",
   "execution_count": 174,
   "metadata": {},
   "outputs": [],
   "source": [
    "import torch\n",
    "import torch.nn as nn\n",
    "import torch.optim as optim\n",
    "import torch.nn.utils as torch_utils\n",
    "import matplotlib.pyplot as plt\n",
    "import numpy as np\n",
    "import pandas as pd"
   ]
  },
  {
   "cell_type": "markdown",
   "metadata": {},
   "source": [
    "Below is some data I collected from houses in Elmhurst, Illinois."
   ]
  },
  {
   "cell_type": "code",
   "execution_count": 175,
   "metadata": {},
   "outputs": [
    {
     "name": "stdout",
     "output_type": "stream",
     "text": [
      "X: tensor([[1.1250e+03, 3.0000e+00, 1.9540e+03],\n",
      "        [8.0200e+02, 1.6000e+00, 1.9250e+03],\n",
      "        [3.7340e+03, 2.2000e+00, 2.0060e+03],\n",
      "        [1.3000e+03, 2.6000e+00, 1.9500e+03],\n",
      "        [4.2000e+03, 6.0000e-01, 1.9300e+03],\n",
      "        [1.1000e+03, 5.0000e+00, 1.9600e+03],\n",
      "        [1.7670e+03, 2.1000e+00, 1.9500e+03]])\n",
      "\n",
      "Y: tensor([[ 330000.],\n",
      "        [ 347000.],\n",
      "        [1249900.],\n",
      "        [ 339900.],\n",
      "        [ 750000.],\n",
      "        [ 379000.],\n",
      "        [ 409900.]])\n"
     ]
    }
   ],
   "source": [
    "training_data_raw = {\n",
    "    'price': [330000.0, 347000.0, 1249900.0, 339900.0, 750000.0, 379000.0,409900.0],\n",
    "    'sqrfoot': [1125.0, 802.0, 3734.0, 1300.0, 4200.0, 1100.0, 1767.0],\n",
    "    'miles_to_school': [3.0, 1.6, 2.2, 2.6, 0.6, 5.0, 2.1],\n",
    "    'yearbuilt': [1954.0, 1925.0, 2006.0, 1950.0, 1930.0, 1960.0, 1950.0]\n",
    "}\n",
    "\n",
    "training_df = pd.DataFrame(data=training_data_raw)\n",
    "X = torch.tensor(training_df[['sqrfoot', 'miles_to_school', 'yearbuilt']].values, dtype=torch.float32)\n",
    "Y = torch.tensor(training_df[['price']].values, dtype=torch.float32)\n",
    "Y.transpose\n",
    "\n",
    "print(f\"X: {X}\")\n",
    "print(f\"\\nY: {Y}\")"
   ]
  },
  {
   "cell_type": "markdown",
   "metadata": {},
   "source": [
    "Creating the model."
   ]
  },
  {
   "cell_type": "code",
   "execution_count": 281,
   "metadata": {},
   "outputs": [],
   "source": [
    "class LinearModel(nn.Module):\n",
    "    def __init__(self):\n",
    "        super(LinearModel, self).__init__()\n",
    "        self.input = nn.Linear(3, 64)\n",
    "        self.hidden1=nn.Linear(64,32)\n",
    "        self.output=nn.Linear(32,1)\n",
    "\n",
    "    def forward(self, x):\n",
    "        x = torch.relu(self.input(x))  # Apply ReLU activation to the output of the first hidden layer\n",
    "        x = torch.relu(self.hidden1(x))  # Apply ReLU activation to the output of the second hidden layer\n",
    "        return self.output(x)\n",
    "    \n",
    "model = LinearModel()"
   ]
  },
  {
   "cell_type": "code",
   "execution_count": 282,
   "metadata": {},
   "outputs": [],
   "source": [
    "loss_function = nn.MSELoss()\n",
    "\n",
    "learning_rate = 0.0001\n",
    "optimizer = optim.SGD(model.parameters(), lr=learning_rate, momentum=.09)"
   ]
  },
  {
   "cell_type": "markdown",
   "metadata": {},
   "source": [
    "Below is the training loop:"
   ]
  },
  {
   "cell_type": "code",
   "execution_count": 320,
   "metadata": {},
   "outputs": [
    {
     "name": "stdout",
     "output_type": "stream",
     "text": [
      "Epoch: 5000, Loss: 9149220864.0000\n",
      "Epoch: 10000, Loss: 8942748672.0000\n",
      "Epoch: 15000, Loss: 8736580608.0000\n",
      "Epoch: 20000, Loss: 8531129344.0000\n",
      "Epoch: 25000, Loss: 8329858560.0000\n",
      "Epoch: 30000, Loss: 8128295424.0000\n",
      "Epoch: 35000, Loss: 7926868480.0000\n",
      "Epoch: 40000, Loss: 7727467520.0000\n",
      "Epoch: 45000, Loss: 7529108992.0000\n",
      "Epoch: 50000, Loss: 7332015104.0000\n",
      "Epoch: 55000, Loss: 7137639424.0000\n",
      "Epoch: 60000, Loss: 6942171136.0000\n",
      "Epoch: 65000, Loss: 6748877824.0000\n",
      "Epoch: 70000, Loss: 6557344256.0000\n",
      "Epoch: 75000, Loss: 6367776768.0000\n",
      "Epoch: 80000, Loss: 6180286464.0000\n",
      "Epoch: 85000, Loss: 5993542144.0000\n",
      "Epoch: 90000, Loss: 5806836736.0000\n",
      "Epoch: 95000, Loss: 5623021056.0000\n",
      "Epoch: 100000, Loss: 5440860672.0000\n",
      "Epoch: 105000, Loss: 5260917248.0000\n",
      "Epoch: 110000, Loss: 5083209728.0000\n",
      "Epoch: 115000, Loss: 4906998784.0000\n",
      "Epoch: 120000, Loss: 4734087680.0000\n",
      "Epoch: 125000, Loss: 4562255360.0000\n",
      "Epoch: 130000, Loss: 4393062400.0000\n",
      "Epoch: 135000, Loss: 4226488064.0000\n",
      "Epoch: 140000, Loss: 4062563840.0000\n",
      "Epoch: 145000, Loss: 3902162688.0000\n",
      "Epoch: 150000, Loss: 3743490816.0000\n",
      "Epoch: 155000, Loss: 3588379136.0000\n",
      "Epoch: 160000, Loss: 3435227392.0000\n",
      "Epoch: 165000, Loss: 3284349440.0000\n",
      "Epoch: 170000, Loss: 3137376512.0000\n",
      "Epoch: 175000, Loss: 2992120320.0000\n",
      "Epoch: 180000, Loss: 2850720256.0000\n",
      "Epoch: 185000, Loss: 2712208640.0000\n",
      "Epoch: 190000, Loss: 2577347328.0000\n",
      "Epoch: 195000, Loss: 2444574208.0000\n",
      "Epoch: 200000, Loss: 2315545856.0000\n",
      "Epoch: 205000, Loss: 2189380096.0000\n",
      "Epoch: 210000, Loss: 2067108864.0000\n",
      "Epoch: 215000, Loss: 1947224704.0000\n",
      "Epoch: 220000, Loss: 1831414016.0000\n",
      "Epoch: 225000, Loss: 1719795456.0000\n",
      "Epoch: 230000, Loss: 1611263616.0000\n",
      "Epoch: 235000, Loss: 1506545792.0000\n",
      "Epoch: 240000, Loss: 1405770496.0000\n",
      "Epoch: 245000, Loss: 1308161792.0000\n",
      "Epoch: 250000, Loss: 1214813440.0000\n",
      "Epoch: 255000, Loss: 1125250432.0000\n",
      "Epoch: 260000, Loss: 1039018816.0000\n",
      "Epoch: 265000, Loss: 957334528.0000\n",
      "Epoch: 270000, Loss: 879099264.0000\n",
      "Epoch: 275000, Loss: 804872576.0000\n",
      "Epoch: 280000, Loss: 734467712.0000\n",
      "Epoch: 285000, Loss: 667892224.0000\n",
      "Epoch: 290000, Loss: 605248320.0000\n",
      "Epoch: 295000, Loss: 546784640.0000\n",
      "Epoch: 300000, Loss: 492688480.0000\n",
      "Epoch: 305000, Loss: 442801312.0000\n",
      "Epoch: 310000, Loss: 397156832.0000\n",
      "Epoch: 315000, Loss: 355541440.0000\n",
      "Epoch: 320000, Loss: 318131712.0000\n",
      "Epoch: 325000, Loss: 284779104.0000\n",
      "Epoch: 330000, Loss: 255641472.0000\n",
      "Epoch: 335000, Loss: 230715936.0000\n",
      "Epoch: 340000, Loss: 209950128.0000\n",
      "Epoch: 345000, Loss: 193640336.0000\n",
      "Epoch: 350000, Loss: 181787008.0000\n",
      "Epoch: 355000, Loss: 174378624.0000\n",
      "Epoch: 360000, Loss: 171573296.0000\n",
      "Epoch: 365000, Loss: 171154704.0000\n",
      "Epoch: 370000, Loss: 170752352.0000\n",
      "Epoch: 375000, Loss: 170359216.0000\n",
      "Epoch: 380000, Loss: 169960144.0000\n",
      "Epoch: 385000, Loss: 169562032.0000\n",
      "Epoch: 390000, Loss: 169165536.0000\n",
      "Epoch: 395000, Loss: 168769808.0000\n",
      "Epoch: 400000, Loss: 168379632.0000\n",
      "Epoch: 405000, Loss: 167983328.0000\n",
      "Epoch: 410000, Loss: 167590752.0000\n",
      "Epoch: 415000, Loss: 167191328.0000\n",
      "Epoch: 420000, Loss: 166790240.0000\n",
      "Epoch: 425000, Loss: 166390912.0000\n",
      "Epoch: 430000, Loss: 165994496.0000\n",
      "Epoch: 435000, Loss: 165599840.0000\n",
      "Epoch: 440000, Loss: 165193984.0000\n",
      "Epoch: 445000, Loss: 164792560.0000\n",
      "Epoch: 450000, Loss: 164396240.0000\n",
      "Epoch: 455000, Loss: 163995760.0000\n",
      "Epoch: 460000, Loss: 163599360.0000\n",
      "Epoch: 465000, Loss: 163200864.0000\n",
      "Epoch: 470000, Loss: 162802592.0000\n",
      "Epoch: 475000, Loss: 162407504.0000\n",
      "Epoch: 480000, Loss: 162016912.0000\n",
      "Epoch: 485000, Loss: 161618432.0000\n",
      "Epoch: 490000, Loss: 161221888.0000\n",
      "Epoch: 495000, Loss: 160819472.0000\n",
      "Epoch: 500000, Loss: 160420736.0000\n",
      "initial: 9357837312.0\n",
      "new: 160420736.0\n"
     ]
    }
   ],
   "source": [
    "loss_array = []\n",
    "\n",
    "num_epochs = 500000\n",
    "for epoch in range(num_epochs):\n",
    "    optimizer.zero_grad()\n",
    "\n",
    "    predictions = model(X)\n",
    "\n",
    "    loss = loss_function(predictions, Y)\n",
    "    loss_array.append((loss.item()))\n",
    "\n",
    "    loss.backward()\n",
    "\n",
    "    torch_utils.clip_grad_norm_(model.parameters(), max_norm=1.0)\n",
    "\n",
    "    optimizer.step()\n",
    "\n",
    "    if (epoch + 1) % 5000 == 0:\n",
    "        print(f\"Epoch: {epoch+1}, Loss: {loss.item():.4f}\")\n",
    "\n",
    "print(f\"initial: {loss_array[0]}\")\n",
    "print(f\"new: {loss_array[-1]}\")"
   ]
  },
  {
   "cell_type": "code",
   "execution_count": 321,
   "metadata": {},
   "outputs": [
    {
     "data": {
      "image/png": "[encoded data removed]",
      "text/plain": [
       "<Figure size 640x480 with 1 Axes>"
      ]
     },
     "metadata": {},
     "output_type": "display_data"
    }
   ],
   "source": [
    "\n",
    "epochs_array = []\n",
    "for i in range(num_epochs):\n",
    "    epochs_array.append(i)\n",
    "plt.plot(epochs_array, loss_array)\n",
    "plt.show()"
   ]
  },
  {
   "cell_type": "code",
   "execution_count": 324,
   "metadata": {},
   "outputs": [
    {
     "name": "stdout",
     "output_type": "stream",
     "text": [
      "input tensor: tensor([[1567.0000,    2.9000, 1962.0000]])\n",
      "Predicted price: $338577.31\n",
      "off by: $-151422.6875\n"
     ]
    }
   ],
   "source": [
    "input = torch.tensor([[1567, 2.9, 1962]], dtype=torch.float32)\n",
    "print(f\"input tensor: {input}\")\n",
    "\n",
    "output = model(input)\n",
    "#input is a tensor of sqrtfoot, miles to school, yearbuilt\n",
    "print(f\"Predicted price: ${output.item():.2f}\")\n",
    "# answer = 490000\n",
    "answer = torch.tensor([[490000]], dtype=torch.float32)\n",
    "print(f\"off by: ${(output.item()-answer.item()):.4f}\")"
   ]
  },
  {
   "cell_type": "code",
   "execution_count": 325,
   "metadata": {},
   "outputs": [
    {
     "name": "stdout",
     "output_type": "stream",
     "text": [
      "324844.375\n",
      "off by: $-135055.6250\n"
     ]
    }
   ],
   "source": [
    "answer = torch.tensor([[459900]], dtype=torch.float32)\n",
    "input = torch.tensor([[1409, 1.9, 1567]])\n",
    "\n",
    "output = model(input)\n",
    "print(output.item())\n",
    "print(f\"off by: ${(output.item()-answer.item()):.4f}\")"
   ]
  },
  {
   "cell_type": "code",
   "execution_count": 326,
   "metadata": {},
   "outputs": [
    {
     "name": "stdout",
     "output_type": "stream",
     "text": [
      "Model's state_dict:\n",
      "input.weight \t torch.Size([64, 3])\n",
      "input.bias \t torch.Size([64])\n",
      "hidden1.weight \t torch.Size([32, 64])\n",
      "hidden1.bias \t torch.Size([32])\n",
      "output.weight \t torch.Size([1, 32])\n",
      "output.bias \t torch.Size([1])\n",
      "Optimizer's state_dict:\n",
      "state \t {0: {'momentum_buffer': tensor([[-5.6838e-03, -3.3558e-06, -3.7191e-03],\n",
      "        [-1.1603e-02, -2.7890e-03, -1.4704e-02],\n",
      "        [-6.2094e-02, -1.5030e-02, -7.7098e-02],\n",
      "        [ 0.0000e+00,  0.0000e+00,  0.0000e+00],\n",
      "        [ 0.0000e+00,  0.0000e+00,  0.0000e+00],\n",
      "        [-4.4011e-02, -1.0739e-02, -5.4347e-02],\n",
      "        [ 0.0000e+00,  0.0000e+00,  0.0000e+00],\n",
      "        [-3.1134e-02, -5.8107e-03, -3.4372e-02],\n",
      "        [ 0.0000e+00,  0.0000e+00,  0.0000e+00],\n",
      "        [ 0.0000e+00,  0.0000e+00,  0.0000e+00],\n",
      "        [ 0.0000e+00,  0.0000e+00,  0.0000e+00],\n",
      "        [-7.6727e-02, -1.4751e-02, -8.2541e-02],\n",
      "        [ 0.0000e+00,  0.0000e+00,  0.0000e+00],\n",
      "        [ 2.1136e-01,  7.5230e-02,  3.3287e-01],\n",
      "        [-2.4092e-02, -1.1967e-02, -4.2879e-02],\n",
      "        [-4.1736e-02, -8.0735e-03, -4.4694e-02],\n",
      "        [ 1.8522e-03,  3.6637e-04,  2.1416e-03],\n",
      "        [ 0.0000e+00,  0.0000e+00,  0.0000e+00],\n",
      "        [ 1.1751e-01,  4.1828e-02,  1.8502e-01],\n",
      "        [ 0.0000e+00,  0.0000e+00,  0.0000e+00],\n",
      "        [ 0.0000e+00,  0.0000e+00,  0.0000e+00],\n",
      "        [-1.1063e-01, -2.1279e-02, -1.1940e-01],\n",
      "        [ 0.0000e+00,  0.0000e+00,  0.0000e+00],\n",
      "        [ 0.0000e+00,  0.0000e+00,  0.0000e+00],\n",
      "        [-7.7183e-02, -1.8687e-02, -9.6129e-02],\n",
      "        [-1.9483e-02, -1.1586e-05, -1.2807e-02],\n",
      "        [ 0.0000e+00,  0.0000e+00,  0.0000e+00],\n",
      "        [-1.7203e-01, -3.3091e-02, -1.8554e-01],\n",
      "        [-2.3637e-02, -1.4016e-05, -1.5509e-02],\n",
      "        [-2.7920e-02, -1.3783e-02, -4.9748e-02],\n",
      "        [-4.8282e-02, -9.3823e-03, -5.1256e-02],\n",
      "        [ 0.0000e+00,  0.0000e+00,  0.0000e+00],\n",
      "        [-1.1805e-02, -7.0185e-06, -7.7595e-03],\n",
      "        [-6.4916e-02, -1.2473e-02, -7.0186e-02],\n",
      "        [-1.4859e-01, -2.8509e-02, -1.6099e-01],\n",
      "        [ 0.0000e+00,  0.0000e+00,  0.0000e+00],\n",
      "        [-3.6468e-02, -1.7987e-02, -6.5206e-02],\n",
      "        [-4.2179e-02, -1.0085e-02, -5.3230e-02],\n",
      "        [-9.7850e-02, -2.3666e-02, -1.2223e-01],\n",
      "        [ 0.0000e+00,  0.0000e+00,  0.0000e+00],\n",
      "        [-1.8532e-02, -9.0921e-03, -3.3079e-02],\n",
      "        [-1.2779e-01, -3.1124e-02, -1.5856e-01],\n",
      "        [ 0.0000e+00,  0.0000e+00,  0.0000e+00],\n",
      "        [ 0.0000e+00,  0.0000e+00,  0.0000e+00],\n",
      "        [ 0.0000e+00,  0.0000e+00,  0.0000e+00],\n",
      "        [ 0.0000e+00,  0.0000e+00,  0.0000e+00],\n",
      "        [ 2.1742e-03,  4.1331e-04,  2.4113e-03],\n",
      "        [ 0.0000e+00,  0.0000e+00,  0.0000e+00],\n",
      "        [-1.2516e-01, -2.4148e-02, -1.3470e-01],\n",
      "        [-2.0791e-02, -1.0149e-02, -3.7277e-02],\n",
      "        [-3.2198e-02, -1.6076e-02, -5.7388e-02],\n",
      "        [ 0.0000e+00,  0.0000e+00,  0.0000e+00],\n",
      "        [-1.4119e-01, -2.7079e-02, -1.5266e-01],\n",
      "        [ 0.0000e+00,  0.0000e+00,  0.0000e+00],\n",
      "        [ 0.0000e+00,  0.0000e+00,  0.0000e+00],\n",
      "        [-4.0153e-04, -1.2941e-04, -4.6130e-04],\n",
      "        [-1.1129e-01, -2.1253e-02, -1.2062e-01],\n",
      "        [-9.2187e-02, -2.2301e-02, -1.1514e-01],\n",
      "        [-1.5994e-02, -3.0483e-03, -1.7794e-02],\n",
      "        [ 9.6178e-02,  3.4180e-02,  1.5166e-01],\n",
      "        [ 0.0000e+00,  0.0000e+00,  0.0000e+00],\n",
      "        [-1.7740e-02, -3.4725e-03, -1.8931e-02],\n",
      "        [ 0.0000e+00,  0.0000e+00,  0.0000e+00],\n",
      "        [-5.5166e-02, -2.7706e-02, -9.8044e-02]])}, 1: {'momentum_buffer': tensor([-1.8940e-06, -4.2407e-07, -1.1625e-06,  0.0000e+00,  0.0000e+00,\n",
      "        -4.4487e-07,  0.0000e+00, -2.8236e-06,  0.0000e+00,  0.0000e+00,\n",
      "         0.0000e+00, -4.7044e-06,  0.0000e+00, -2.0764e-05,  8.4901e-06,\n",
      "        -2.3262e-06,  1.6626e-07,  0.0000e+00, -1.1572e-05,  0.0000e+00,\n",
      "         0.0000e+00, -6.9661e-06,  0.0000e+00,  0.0000e+00, -1.5886e-06,\n",
      "        -6.5224e-06,  0.0000e+00, -1.0756e-05, -7.8982e-06,  9.5913e-06,\n",
      "        -2.3431e-06,  0.0000e+00, -3.9518e-06, -4.1862e-06, -9.8620e-06,\n",
      "         0.0000e+00,  1.2366e-05, -1.5622e-06, -2.2684e-06,  0.0000e+00,\n",
      "         6.1897e-06, -1.8393e-06,  0.0000e+00,  0.0000e+00,  0.0000e+00,\n",
      "         0.0000e+00,  1.8358e-07,  0.0000e+00, -7.4875e-06,  6.7225e-06,\n",
      "         1.1514e-05,  0.0000e+00, -9.2309e-06,  0.0000e+00,  0.0000e+00,\n",
      "         9.2925e-08, -7.6659e-06, -2.1158e-06, -1.3597e-06, -9.2121e-06,\n",
      "         0.0000e+00, -8.4864e-07,  0.0000e+00,  2.0295e-05])}, 2: {'momentum_buffer': tensor([[ 0.0000e+00,  0.0000e+00,  0.0000e+00,  ...,  0.0000e+00,\n",
      "          0.0000e+00,  0.0000e+00],\n",
      "        [ 0.0000e+00,  0.0000e+00,  0.0000e+00,  ...,  0.0000e+00,\n",
      "          0.0000e+00,  0.0000e+00],\n",
      "        [-1.1545e-06, -4.4746e-05, -3.4392e-04,  ..., -1.4033e-04,\n",
      "          0.0000e+00, -1.8138e-04],\n",
      "        ...,\n",
      "        [-5.7844e-05, -3.6563e-06, -1.7416e-05,  ..., -8.4469e-05,\n",
      "          0.0000e+00,  0.0000e+00],\n",
      "        [-3.1367e-04, -4.4143e-04, -3.3368e-03,  ..., -1.7665e-03,\n",
      "          0.0000e+00, -1.7118e-03],\n",
      "        [ 0.0000e+00,  0.0000e+00,  0.0000e+00,  ...,  0.0000e+00,\n",
      "          0.0000e+00,  0.0000e+00]])}, 3: {'momentum_buffer': tensor([ 0.0000e+00,  0.0000e+00,  1.5030e-08, -8.0894e-07,  0.0000e+00,\n",
      "         9.8203e-08,  2.0217e-08, -6.1557e-06, -1.0847e-06, -4.8953e-07,\n",
      "        -2.4194e-07,  1.6624e-08, -9.0232e-10, -5.2095e-07, -4.1429e-08,\n",
      "         0.0000e+00,  0.0000e+00, -4.7060e-07,  1.3103e-08, -3.9468e-07,\n",
      "        -1.8808e-06, -1.8602e-07,  5.7013e-08,  0.0000e+00, -9.2154e-07,\n",
      "         0.0000e+00, -1.8465e-06, -8.3402e-08, -3.0556e-08, -6.1479e-08,\n",
      "        -1.7994e-07,  0.0000e+00])}, 4: {'momentum_buffer': tensor([[ 0.0000e+00,  0.0000e+00, -3.4017e-04, -1.4761e-02,  0.0000e+00,\n",
      "         -9.1803e-05, -3.0766e-05,  6.9141e-03, -2.0410e-02, -1.7807e-03,\n",
      "         -3.7025e-03, -5.1491e-06, -2.1461e-04, -7.0996e-03, -2.7147e-03,\n",
      "          0.0000e+00,  0.0000e+00, -8.5030e-03, -2.0935e-04, -8.3761e-03,\n",
      "          6.6533e-03, -4.9173e-03, -5.5758e-05,  0.0000e+00, -2.1200e-02,\n",
      "          0.0000e+00, -3.6548e-02, -1.2028e-03, -2.9070e-03, -3.4016e-04,\n",
      "         -5.6492e-03,  0.0000e+00]])}, 5: {'momentum_buffer': tensor([-1.5127e-07])}}\n",
      "param_groups \t [{'lr': 0.0001, 'momentum': 0.09, 'dampening': 0, 'weight_decay': 0, 'nesterov': False, 'maximize': False, 'foreach': None, 'differentiable': False, 'params': [0, 1, 2, 3, 4, 5]}]\n"
     ]
    }
   ],
   "source": [
    "print(\"Model's state_dict:\")\n",
    "for param_tensor in model.state_dict():\n",
    "    print(param_tensor, \"\\t\", model.state_dict()[param_tensor].size())\n",
    "\n",
    "\n",
    "print(\"Optimizer's state_dict:\")\n",
    "for var_name in optimizer.state_dict():\n",
    "    print(var_name, \"\\t\", optimizer.state_dict()[var_name])"
   ]
  },
  {
   "cell_type": "code",
   "execution_count": 329,
   "metadata": {},
   "outputs": [],
   "source": [
    "PATH = \"house_prices_ai.pth\"\n",
    "torch.save(model.state_dict(), PATH)"
   ]
  },
  {
   "cell_type": "code",
   "execution_count": null,
   "metadata": {},
   "outputs": [],
   "source": []
  }
 ],
 "metadata": {
  "kernelspec": {
   "display_name": "Python 3",
   "language": "python",
   "name": "python3"
  },
  "language_info": {
   "codemirror_mode": {
    "name": "ipython",
    "version": 3
   },
   "file_extension": ".py",
   "mimetype": "text/x-python",
   "name": "python",
   "nbconvert_exporter": "python",
   "pygments_lexer": "ipython3",
   "version": "3.11.0"
  },
  "orig_nbformat": 4
 },
 "nbformat": 4,
 "nbformat_minor": 2
}
